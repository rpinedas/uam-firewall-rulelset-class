{
  "nbformat": 4,
  "nbformat_minor": 0,
  "metadata": {
    "colab": {
      "name": "Automatic Firewall Ruleset Creation",
      "provenance": [],
      "authorship_tag": "ABX9TyN+n9cCD3K+FpuFNwMnwoJd",
      "include_colab_link": true
    },
    "kernelspec": {
      "name": "python3",
      "display_name": "Python 3"
    }
  },
  "cells": [
    {
      "cell_type": "markdown",
      "metadata": {
        "id": "view-in-github",
        "colab_type": "text"
      },
      "source": [
        "<a href=\"https://colab.research.google.com/github/rpinedas/uam-firewall-rulelset-class/blob/master/Automatic_Firewall_Ruleset_Creation.ipynb\" target=\"_parent\"><img src=\"https://colab.research.google.com/assets/colab-badge.svg\" alt=\"Open In Colab\"/></a>"
      ]
    },
    {
      "cell_type": "markdown",
      "metadata": {
        "id": "5gmaUvvJ2SY2",
        "colab_type": "text"
      },
      "source": [
        "**Automatic Firewall Ruleset Creation** By: Román Arturo Pineda Soto\n",
        "UAM\n"
      ]
    },
    {
      "cell_type": "code",
      "metadata": {
        "id": "2OiBZ92S2D4j",
        "colab_type": "code",
        "colab": {
          "base_uri": "https://localhost:8080/",
          "height": 88
        },
        "outputId": "96239b5b-37aa-4c7a-fca9-a5264461abd6"
      },
      "source": [
        "#Lectura de archivo de Netflow\n",
        "#Se lee y parsea el archivo de Netflow priorizando el primer TimeStamp, Ip Origen, Ip Destino, Puerto Origen y Puerto Destino\n",
        "\n",
        "import pandas as pd\n",
        "netflow_dict = {\"IP\":0}\n",
        "netflow_dict_2 = {\"Port\":0}\n",
        "netflow_dict_3 = {\"Time\":0}\n",
        "x=0\n",
        "y=0\n",
        "with open('netflow.txt','r')as reader:\n",
        "    for line in reader:\n",
        "        timestamp1,timestamp2,timestamp3,size,protocol,fwd1,src1,dst1,srcp,dstp,tail = line.split(',',10)\n",
        "        netflow_dict[dst1] = x\n",
        "        netflow_dict_2[dstp] = y\n",
        "        netflow_dict_3[timestamp1] = netflow_dict\n",
        "    \n",
        "with open('netflow.txt','r')as reader:\n",
        "    x=0\n",
        "    for line in reader:\n",
        "        timestamp1,timestamp2,timestamp3,size,protocol,fwd1,src1,dst1,srcp,dstp,tail = line.split(',',10)\n",
        "        x=netflow_dict.get(dst1)\n",
        "        y=netflow_dict_2.get(dstp)\n",
        "        y=y+1\n",
        "        x=x+1\n",
        "        netflow_dict[dst1] = x\n",
        "        netflow_dict_2[dstp] = x\n",
        "        netflow_dict_3[timestamp1] = netflow_dict\n",
        "\n",
        "    print(netflow_dict_3)        \n",
        "    sorted_netflow = sorted(netflow_dict.items(), key=lambda kv: kv[1])\n",
        "    print(sorted_netflow)\n",
        "    \n",
        "    sorted_netflow_2 = sorted(netflow_dict_2.items(), key=lambda kv: kv[1])\n",
        "    print(sorted_netflow_2)\n",
        "#Fin del programa"
      ],
      "execution_count": null,
      "outputs": [
        {
          "output_type": "stream",
          "text": [
            "{'Time': 0, '2020-03-07T11:28:00-0600': {'IP': 0, '172.17.211.196': 1, '172.16.204.22': 1, '172.16.202.49': 13, '172.27.203.250': 1, '172.16.203.135': 1, '172.16.202.54': 15, '172.16.213.164': 1, '172.16.195.68': 1, '172.16.201.81': 1, '172.16.202.100': 1, '200.95.237.250': 1, '172.16.204.192': 1, '172.16.204.19': 2, '172.16.203.44': 1, '172.16.203.124': 1, '172.16.212.108': 1, '172.16.215.32': 1, '172.16.213.170': 1, '172.16.215.121': 1, '172.16.43.10': 1, '172.16.203.74': 3, '172.16.213.107': 1, '172.16.204.212': 1, '172.16.215.171': 1, '172.16.213.192': 1, '172.16.203.63': 1, '172.16.215.209': 1, '172.16.213.180': 1, '172.16.202.222': 1, '172.17.202.7': 1, '172.16.204.81': 1, '172.16.203.121': 1, '172.17.211.65': 3, '172.16.215.66': 1, '172.16.204.180': 1, '172.16.216.21': 1, '172.16.215.9': 1, '172.16.201.80': 2, '172.16.203.227': 2, '172.16.215.156': 1, '172.16.204.200': 1, '172.16.203.140': 2, '172.16.213.183': 1, '172.16.216.37': 2, '172.16.213.244': 1, '172.16.215.25': 1, '172.22.192.11': 1, '172.16.213.182': 1, '172.16.215.228': 1, '172.16.215.210': 1, '172.27.203.44': 1, '13.74.179.117': 1, '172.17.201.80': 1, '10.12.58.178': 1, '172.27.14.168': 1, '172.16.202.161': 1, '172.16.215.70': 1, '172.17.201.16': 1, '172.16.202.209': 1, '172.16.215.223': 1, '172.16.203.240': 3, '172.16.213.196': 1, '172.21.209.34': 1}}\n",
            "[('IP', 0), ('172.17.211.196', 1), ('172.16.204.22', 1), ('172.27.203.250', 1), ('172.16.203.135', 1), ('172.16.213.164', 1), ('172.16.195.68', 1), ('172.16.201.81', 1), ('172.16.202.100', 1), ('200.95.237.250', 1), ('172.16.204.192', 1), ('172.16.203.44', 1), ('172.16.203.124', 1), ('172.16.212.108', 1), ('172.16.215.32', 1), ('172.16.213.170', 1), ('172.16.215.121', 1), ('172.16.43.10', 1), ('172.16.213.107', 1), ('172.16.204.212', 1), ('172.16.215.171', 1), ('172.16.213.192', 1), ('172.16.203.63', 1), ('172.16.215.209', 1), ('172.16.213.180', 1), ('172.16.202.222', 1), ('172.17.202.7', 1), ('172.16.204.81', 1), ('172.16.203.121', 1), ('172.16.215.66', 1), ('172.16.204.180', 1), ('172.16.216.21', 1), ('172.16.215.9', 1), ('172.16.215.156', 1), ('172.16.204.200', 1), ('172.16.213.183', 1), ('172.16.213.244', 1), ('172.16.215.25', 1), ('172.22.192.11', 1), ('172.16.213.182', 1), ('172.16.215.228', 1), ('172.16.215.210', 1), ('172.27.203.44', 1), ('13.74.179.117', 1), ('172.17.201.80', 1), ('10.12.58.178', 1), ('172.27.14.168', 1), ('172.16.202.161', 1), ('172.16.215.70', 1), ('172.17.201.16', 1), ('172.16.202.209', 1), ('172.16.215.223', 1), ('172.16.213.196', 1), ('172.21.209.34', 1), ('172.16.204.19', 2), ('172.16.201.80', 2), ('172.16.203.227', 2), ('172.16.203.140', 2), ('172.16.216.37', 2), ('172.16.203.74', 3), ('172.17.211.65', 3), ('172.16.203.240', 3), ('172.16.202.49', 13), ('172.16.202.54', 15)]\n",
            "[('Port', 0), ('48735', 1), ('60805', 1), ('59972', 1), ('57011', 1), ('40785', 1), ('0.0', 1), ('9999', 1), ('8280', 1), ('59200', 1), ('37353', 1), ('56777', 1), ('20805', 1), ('9998', 1), ('11003', 1), ('50380', 1), ('8443', 1), ('9111', 1), ('48411', 1), ('49738', 1), ('46132', 1), ('43838', 1), ('44961', 1), ('40845', 1), ('5556', 1), ('36309', 1), ('443', 1), ('33606', 1), ('9375', 1), ('36970', 1), ('53433', 1), ('9361', 1), ('46051', 1), ('44992', 1), ('38950', 1), ('46118', 1), ('57777', 1), ('56799', 1), ('47140', 1), ('3334', 1), ('57868', 1), ('6001', 1), ('4', 1), ('9443', 1), ('46081', 1), ('56252', 1), ('53800', 1), ('2059', 1), ('46302', 1), ('39745', 1), ('38176', 1), ('42364', 1), ('57264', 2), ('35986', 2), ('80', 2), ('55460', 2), ('37647', 2), ('36732', 2), ('1521', 3), ('9083', 3), ('57897', 3), ('53', 13)]\n"
          ],
          "name": "stdout"
        }
      ]
    },
    {
      "cell_type": "markdown",
      "metadata": {
        "id": "IGq4xNc83By6",
        "colab_type": "text"
      },
      "source": [
        "Clasificación de Servicios"
      ]
    },
    {
      "cell_type": "code",
      "metadata": {
        "id": "mocscv-r3G_x",
        "colab_type": "code",
        "colab": {
          "base_uri": "https://localhost:8080/",
          "height": 231
        },
        "outputId": "831dea50-872b-4077-c17b-ddf320242b93"
      },
      "source": [
        "#Lectura de archivo de Netflow\n",
        "\n",
        "#En este archivo procuramos mantener el catálogo de servicios\n",
        "with open('aplic_ip.csv','r')as reader:\n",
        "    for line in reader:\n",
        "        network,service = line.split(',',2)\n",
        "        #print(network)\n",
        "        #print(service)"
      ],
      "execution_count": null,
      "outputs": [
        {
          "output_type": "error",
          "ename": "ValueError",
          "evalue": "ignored",
          "traceback": [
            "\u001b[0;31m---------------------------------------------------------------------------\u001b[0m",
            "\u001b[0;31mValueError\u001b[0m                                Traceback (most recent call last)",
            "\u001b[0;32m<ipython-input-4-f7105d121fc8>\u001b[0m in \u001b[0;36m<module>\u001b[0;34m()\u001b[0m\n\u001b[1;32m      4\u001b[0m \u001b[0;32mwith\u001b[0m \u001b[0mopen\u001b[0m\u001b[0;34m(\u001b[0m\u001b[0;34m'aplic_ip.csv'\u001b[0m\u001b[0;34m,\u001b[0m\u001b[0;34m'r'\u001b[0m\u001b[0;34m)\u001b[0m\u001b[0;32mas\u001b[0m \u001b[0mreader\u001b[0m\u001b[0;34m:\u001b[0m\u001b[0;34m\u001b[0m\u001b[0;34m\u001b[0m\u001b[0m\n\u001b[1;32m      5\u001b[0m     \u001b[0;32mfor\u001b[0m \u001b[0mline\u001b[0m \u001b[0;32min\u001b[0m \u001b[0mreader\u001b[0m\u001b[0;34m:\u001b[0m\u001b[0;34m\u001b[0m\u001b[0;34m\u001b[0m\u001b[0m\n\u001b[0;32m----> 6\u001b[0;31m         \u001b[0mnetwork\u001b[0m\u001b[0;34m,\u001b[0m\u001b[0mservice\u001b[0m \u001b[0;34m=\u001b[0m \u001b[0mline\u001b[0m\u001b[0;34m.\u001b[0m\u001b[0msplit\u001b[0m\u001b[0;34m(\u001b[0m\u001b[0;34m','\u001b[0m\u001b[0;34m,\u001b[0m\u001b[0;36m2\u001b[0m\u001b[0;34m)\u001b[0m\u001b[0;34m\u001b[0m\u001b[0;34m\u001b[0m\u001b[0m\n\u001b[0m\u001b[1;32m      7\u001b[0m         \u001b[0;31m#print(network)\u001b[0m\u001b[0;34m\u001b[0m\u001b[0;34m\u001b[0m\u001b[0;34m\u001b[0m\u001b[0m\n\u001b[1;32m      8\u001b[0m         \u001b[0;31m#print(service)\u001b[0m\u001b[0;34m\u001b[0m\u001b[0;34m\u001b[0m\u001b[0;34m\u001b[0m\u001b[0m\n",
            "\u001b[0;31mValueError\u001b[0m: too many values to unpack (expected 2)"
          ]
        }
      ]
    }
  ]
}