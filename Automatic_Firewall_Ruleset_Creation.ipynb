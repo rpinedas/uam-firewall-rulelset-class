{
  "nbformat": 4,
  "nbformat_minor": 0,
  "metadata": {
    "colab": {
      "name": "Automatic Firewall Ruleset Creation",
      "provenance": []
    },
    "kernelspec": {
      "name": "python3",
      "display_name": "Python 3",
      "language": "python"
    }
  },
  "cells": [
    {
      "cell_type": "markdown",
      "metadata": {
        "id": "5gmaUvvJ2SY2"
      },
      "source": [
        "**Automatic Firewall Ruleset Creation** By: Román Arturo Pineda Soto\n",
        "UAM\n"
      ]
    },
    {
      "cell_type": "code",
      "metadata": {
        "id": "2OiBZ92S2D4j",
        "colab": {
          "base_uri": "https://localhost:8080/"
        },
        "outputId": "a38203f1-c7f9-42a9-c7ee-e227ecbe392b"
      },
      "source": [
        "#Lectura de archivo de Netflow\n",
        "netflow_dict = {\"IP\":0}\n",
        "netflow_dict_2 = {\"Port\":0}\n",
        "netflow_dict_3 = {\"Time\":0}\n",
        "netflow_dict_res = {\"Server Port\":0}\n",
        "netflow_dict_count = {\"Candidate\":0}\n",
        "x=0\n",
        "y=0\n",
        "cand_port = []\n",
        "with open('netflow.txt','r')as reader:\n",
        "    for line in reader:\n",
        "        timestamp1,timestamp2,timestamp3,size,protocol,fwd1,src1,dst1,srcp,dstp,nin,nout,ipkt,opkt,ibyt,obyt,fl,bps,tail = line.split(',',18)\n",
        "        netflow_dict[dst1] = x\n",
        "        netflow_dict_2[dstp] = y\n",
        "        netflow_dict_3[timestamp1] = netflow_dict     \n",
        "    \n",
        "with open('netflow.txt','r')as reader:\n",
        "    x=0\n",
        "    for line in reader:\n",
        "        timestamp1,timestamp2,timestamp3,size,protocol,fwd1,src1,dst1,srcp,dstp,nin,nout,ipkt,opkt,ibyt,obyt,fl,bps,tail = line.split(',',18)\n",
        "        x=netflow_dict.get(dst1)\n",
        "        y=netflow_dict_2.get(dstp)\n",
        "        y=y+1\n",
        "        x=x+1\n",
        "        netflow_dict[dst1] = x\n",
        "        netflow_dict_2[dstp] = x\n",
        "        netflow_dict_3[timestamp1] = netflow_dict\n",
        "        if x>5:\n",
        "            netflow_dict_count[dstp] = x\n",
        "            netflow_dict_res[timestamp1] = netflow_dict_count\n",
        "    spc=0\n",
        "    for key,value in netflow_dict_2.items():\n",
        "        if value > 5:\n",
        "            print(\"Puerto Servidor:\" + key)\n",
        "            spc=spc+1\n",
        "    print(spc)\n",
        "    print(netflow_dict_res)\n",
        "    #print(netflow_dict_3)        \n",
        "    #sorted_netflow = sorted(netflow_dict.items(), key=lambda kv: kv[1])\n",
        "    #print(sorted_netflow)    \n",
        "    #sorted_netflow_2 = sorted(netflow_dict_2.items(), key=lambda kv: kv[1])\n",
        "    #print(sorted_netflow_2)\n",
        "    \n",
        "#Fin del programa"
      ],
      "execution_count": 1,
      "outputs": [
        {
          "output_type": "stream",
          "name": "stdout",
          "text": [
            "Puerto Servidor:53\nPuerto Servidor:0\nPuerto Servidor:657\nPuerto Servidor:758\nPuerto Servidor:661\nPuerto Servidor:760\nPuerto Servidor:561\nPuerto Servidor:457\nPuerto Servidor:146\nPuerto Servidor:893\n10\n{'Server Port': 0, '2020-03-07T11:28:00-0600': {'Candidate': 0, '53': 13, '0': 114, '659': 38, '219': 26, '661': 89, '760': 7, '457': 10, '146': 82, '183': 83, '657': 102, '758': 11, '561': 6, '893': 12}, '2020-09-08T16:15:00-05:00': {'Candidate': 0, '53': 13, '0': 114, '659': 38, '219': 26, '661': 89, '760': 7, '457': 10, '146': 82, '183': 83, '657': 102, '758': 11, '561': 6, '893': 12}}\n"
          ]
        }
      ]
    }
  ]
}